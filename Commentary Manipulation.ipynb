{
 "cells": [
  {
   "cell_type": "code",
   "execution_count": 1,
   "id": "d79754d5-9292-4efe-ac20-e655801801a5",
   "metadata": {},
   "outputs": [],
   "source": [
    "import pandas as pd\n",
    "\n",
    "# Load your dataset (replace 'your_dataset.csv' with your file path)\n",
    "df = pd.read_csv('t.csv')\n",
    "\n",
    "# Ensure data is sorted by match_id and ball_number\n",
    "# Add match_id if not present; assuming one match for this example\n",
    "df['match_id'] = 1  # Placeholder: Replace with actual match_id if available\n",
    "df = df.sort_values(by=['match_id', 'Ball Number']).reset_index(drop=True)"
   ]
  },
  {
   "cell_type": "code",
   "execution_count": 2,
   "id": "b7f73816-0d29-441b-af3f-fbca61524ed6",
   "metadata": {},
   "outputs": [],
   "source": [
    "# Replace N/A with 0 for runs (e.g., wides don't count towards batsman's runs)\n",
    "df['Runs'] = pd.to_numeric(df['Runs'], errors='coerce').fillna(0)\n",
    "\n",
    "# Calculate total runs scored, including wides as 1 run\n",
    "df['is_extra'] = df['Runs'].isna()  # Identify wides/no-balls\n",
    "df['runs_for_total'] = df['Runs'].where(df['Runs'].notna(), 1)  # Wides count as 1 run\n",
    "df['total_runs'] = df.groupby('match_id')['runs_for_total'].cumsum()"
   ]
  },
  {
   "cell_type": "code",
   "execution_count": 3,
   "id": "d35007be-36e3-4dcd-b02f-07d5bc87291e",
   "metadata": {},
   "outputs": [],
   "source": [
    "# Extract over and ball within over\n",
    "df['over'] = df['Ball Number'].apply(lambda x: int(x))\n",
    "df['ball_in_over'] = df['Ball Number'].apply(lambda x: int(round((x - int(x)) * 10)))\n",
    "\n",
    "# Total balls bowled (cumulative count per match)\n",
    "df['balls_bowled'] = df.groupby('match_id').cumcount() + 1\n",
    "\n",
    "# Overs bowled as decimal (e.g., 0.3 overs = 3/6 = 0.5)\n",
    "df['overs_bowled'] = df['over'] + df['ball_in_over'] / 6"
   ]
  },
  {
   "cell_type": "code",
   "execution_count": 4,
   "id": "0360308c-9e73-43a3-8a4e-bf4800c996ba",
   "metadata": {},
   "outputs": [],
   "source": [
    "df['current_run_rate'] = df['total_runs'] / df['overs_bowled']"
   ]
  },
  {
   "cell_type": "code",
   "execution_count": 5,
   "id": "ec189d1b-c92f-42d2-8001-cb0c0ba133bc",
   "metadata": {},
   "outputs": [],
   "source": [
    "# Placeholder: Define match metadata manually\n",
    "match_metadata = {\n",
    "    1: {'total_overs': 50, 'target': 252},  # Example for match_id 1 (e.g., T20)\n",
    "    # Add more matches: e.g., 2: {'total_overs': 50, 'target': 300}\n",
    "}\n",
    "\n",
    "# Map metadata to DataFrame\n",
    "df['total_overs'] = df['match_id'].map(lambda x: match_metadata.get(x, {}).get('total_overs', 0))\n",
    "df['target'] = df['match_id'].map(lambda x: match_metadata.get(x, {}).get('target', 0))\n",
    "\n",
    "# Calculate runs needed and overs remaining\n",
    "df['runs_needed'] = df['target'] - df['total_runs']\n",
    "df['overs_remaining'] = df['total_overs'] - df['overs_bowled']\n",
    "\n",
    "# Required run rate (handle division by zero)\n",
    "df['required_run_rate'] = df.apply(\n",
    "    lambda row: row['runs_needed'] / row['overs_remaining'] if row['overs_remaining'] > 0 else 0,\n",
    "    axis=1\n",
    ")"
   ]
  },
  {
   "cell_type": "code",
   "execution_count": 6,
   "id": "3e5b1a7c-9049-4c34-80ce-78aa9933817e",
   "metadata": {},
   "outputs": [],
   "source": [
    "# Identify wickets\n",
    "df['is_wicket'] = df['Runs'] == -1\n",
    "\n",
    "# Cumulative wickets fallen per match\n",
    "df['wickets_fallen'] = df.groupby('match_id')['is_wicket'].cumsum()\n",
    "\n",
    "# Wickets in hand (assuming 10 wickets)\n",
    "df['wickets_in_hand'] = 10 - df['wickets_fallen']"
   ]
  },
  {
   "cell_type": "code",
   "execution_count": 7,
   "id": "30d3e1a1-3726-479e-bbb5-c665f8c38fe4",
   "metadata": {},
   "outputs": [],
   "source": [
    "df.to_csv('enhanced_dataset.csv', index=False)"
   ]
  },
  {
   "cell_type": "code",
   "execution_count": 8,
   "id": "f89dd6c3-ef8e-4260-83f2-dbd5ddc9974f",
   "metadata": {},
   "outputs": [
    {
     "name": "stdout",
     "output_type": "stream",
     "text": [
      "     Ball  Ball Number    Bowler       Batsman  Runs  \\\n",
      "0       1          0.1  Jamieson  Rohit Sharma   0.0   \n",
      "1       2          0.2  Jamieson  Rohit Sharma   6.0   \n",
      "2       3          0.3  Jamieson  Rohit Sharma   2.0   \n",
      "3       4          0.4  Jamieson  Rohit Sharma   0.0   \n",
      "4       5          0.5  Jamieson  Rohit Sharma   0.0   \n",
      "..    ...          ...       ...           ...   ...   \n",
      "295   296         48.2  O'Rourke         Rahul   1.0   \n",
      "296   297         48.3  O'Rourke        Jadeja   0.0   \n",
      "297   298         48.4  O'Rourke        Jadeja   1.0   \n",
      "298   299         48.5  O'Rourke         Rahul   1.0   \n",
      "299   300         48.6  O'Rourke        Jadeja   4.0   \n",
      "\n",
      "                                           Description  match_id  is_extra  \\\n",
      "0    Away swing, low bounce, beats the outside edge...         1     False   \n",
      "1    Pulled behind square. Old-school Rohit, standi...         1     False   \n",
      "2    Touch too straight, clipped off the pads. Thro...         1     False   \n",
      "3           Length on fourth, extra bounce. Good leave         1     False   \n",
      "4    A bit of away movement, that was late swing. L...         1     False   \n",
      "..                                                 ...       ...       ...   \n",
      "295  Good length ball on off, he gets a thick insid...         1     False   \n",
      "296  Good length ball on leg stump, the ball flicks...         1     False   \n",
      "297  Fuller in length on off, he pushes to mid-off ...         1     False   \n",
      "298  Banged in short, he nails the pull to deep squ...         1     False   \n",
      "299  INDIA WIN THE CHAMPIONS TROPHY!A third title f...         1     False   \n",
      "\n",
      "     runs_for_total  total_runs  ...  overs_bowled  current_run_rate  \\\n",
      "0               0.0         0.0  ...      0.166667          0.000000   \n",
      "1               6.0         6.0  ...      0.333333         18.000000   \n",
      "2               2.0         8.0  ...      0.500000         16.000000   \n",
      "3               0.0         8.0  ...      0.666667         12.000000   \n",
      "4               0.0         8.0  ...      0.833333          9.600000   \n",
      "..              ...         ...  ...           ...               ...   \n",
      "295             1.0       234.0  ...     48.333333          4.841379   \n",
      "296             0.0       234.0  ...     48.500000          4.824742   \n",
      "297             1.0       235.0  ...     48.666667          4.828767   \n",
      "298             1.0       236.0  ...     48.833333          4.832765   \n",
      "299             4.0       240.0  ...     49.000000          4.897959   \n",
      "\n",
      "     total_overs  target  runs_needed  overs_remaining  required_run_rate  \\\n",
      "0             50     252        252.0        49.833333           5.056856   \n",
      "1             50     252        246.0        49.666667           4.953020   \n",
      "2             50     252        244.0        49.500000           4.929293   \n",
      "3             50     252        244.0        49.333333           4.945946   \n",
      "4             50     252        244.0        49.166667           4.962712   \n",
      "..           ...     ...          ...              ...                ...   \n",
      "295           50     252         18.0         1.666667          10.800000   \n",
      "296           50     252         18.0         1.500000          12.000000   \n",
      "297           50     252         17.0         1.333333          12.750000   \n",
      "298           50     252         16.0         1.166667          13.714286   \n",
      "299           50     252         12.0         1.000000          12.000000   \n",
      "\n",
      "     is_wicket  wickets_fallen  wickets_in_hand  \n",
      "0        False               0               10  \n",
      "1        False               0               10  \n",
      "2        False               0               10  \n",
      "3        False               0               10  \n",
      "4        False               0               10  \n",
      "..         ...             ...              ...  \n",
      "295      False               6                4  \n",
      "296      False               6                4  \n",
      "297      False               6                4  \n",
      "298      False               6                4  \n",
      "299      False               6                4  \n",
      "\n",
      "[300 rows x 23 columns]\n"
     ]
    }
   ],
   "source": [
    "print(df)"
   ]
  },
  {
   "cell_type": "code",
   "execution_count": null,
   "id": "9bb76830-d686-4b7e-82cb-ec38d8c9a9f7",
   "metadata": {},
   "outputs": [],
   "source": []
  }
 ],
 "metadata": {
  "kernelspec": {
   "display_name": "Python 3 (ipykernel)",
   "language": "python",
   "name": "python3"
  },
  "language_info": {
   "codemirror_mode": {
    "name": "ipython",
    "version": 3
   },
   "file_extension": ".py",
   "mimetype": "text/x-python",
   "name": "python",
   "nbconvert_exporter": "python",
   "pygments_lexer": "ipython3",
   "version": "3.12.2"
  }
 },
 "nbformat": 4,
 "nbformat_minor": 5
}
