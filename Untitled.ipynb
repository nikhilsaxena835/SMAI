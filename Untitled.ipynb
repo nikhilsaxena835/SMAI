{
 "cells": [
  {
   "cell_type": "code",
   "execution_count": 13,
   "id": "f5051d02-15dd-4c50-bef2-546999bd6a96",
   "metadata": {},
   "outputs": [
    {
     "name": "stdout",
     "output_type": "stream",
     "text": [
      "Dataset loaded successfully!\n",
      "   Ball  Ball Number    Bowler       Batsman  Runs  \\\n",
      "0     1          0.1  Jamieson  Rohit Sharma   0.0   \n",
      "1     2          0.2  Jamieson  Rohit Sharma   6.0   \n",
      "2     3          0.3  Jamieson  Rohit Sharma   2.0   \n",
      "3     4          0.4  Jamieson  Rohit Sharma   0.0   \n",
      "4     5          0.5  Jamieson  Rohit Sharma   0.0   \n",
      "\n",
      "                                         Description  match_id  is_extra  \\\n",
      "0  Away swing, low bounce, beats the outside edge...         1     False   \n",
      "1  Pulled behind square. Old-school Rohit, standi...         1     False   \n",
      "2  Touch too straight, clipped off the pads. Thro...         1     False   \n",
      "3         Length on fourth, extra bounce. Good leave         1     False   \n",
      "4  A bit of away movement, that was late swing. L...         1     False   \n",
      "\n",
      "   runs_for_total  total_runs  ...  overs_bowled  current_run_rate  \\\n",
      "0             0.0         0.0  ...      0.166667               0.0   \n",
      "1             6.0         6.0  ...      0.333333              18.0   \n",
      "2             2.0         8.0  ...      0.500000              16.0   \n",
      "3             0.0         8.0  ...      0.666667              12.0   \n",
      "4             0.0         8.0  ...      0.833333               9.6   \n",
      "\n",
      "   total_overs  target  runs_needed  overs_remaining  required_run_rate  \\\n",
      "0           50     252        252.0        49.833333           5.056856   \n",
      "1           50     252        246.0        49.666667           4.953020   \n",
      "2           50     252        244.0        49.500000           4.929293   \n",
      "3           50     252        244.0        49.333333           4.945946   \n",
      "4           50     252        244.0        49.166667           4.962712   \n",
      "\n",
      "   is_wicket  wickets_fallen  wickets_in_hand  \n",
      "0      False               0               10  \n",
      "1      False               0               10  \n",
      "2      False               0               10  \n",
      "3      False               0               10  \n",
      "4      False               0               10  \n",
      "\n",
      "[5 rows x 23 columns]\n"
     ]
    },
    {
     "name": "stderr",
     "output_type": "stream",
     "text": [
      "[nltk_data] Downloading package stopwords to /home/nikhil-\n",
      "[nltk_data]     saxena/nltk_data...\n",
      "[nltk_data]   Package stopwords is already up-to-date!\n",
      "[nltk_data] Downloading package wordnet to /home/nikhil-\n",
      "[nltk_data]     saxena/nltk_data...\n",
      "[nltk_data]   Package wordnet is already up-to-date!\n"
     ]
    }
   ],
   "source": [
    "# Import required libraries\n",
    "import pandas as pd\n",
    "from sklearn.feature_extraction.text import TfidfVectorizer\n",
    "from sklearn.naive_bayes import MultinomialNB\n",
    "from sklearn.model_selection import train_test_split\n",
    "from sklearn.metrics import accuracy_score, classification_report\n",
    "import nltk\n",
    "from nltk.corpus import stopwords\n",
    "from nltk.stem import WordNetLemmatizer\n",
    "import string\n",
    "\n",
    "# Download NLTK resources (run once if not already downloaded)\n",
    "nltk.download('stopwords')\n",
    "nltk.download('wordnet')\n",
    "\n",
    "# Load the enhanced dataset\n",
    "df = pd.read_csv('enhanced_dataset.csv')  # Replace with your file path\n",
    "print(\"Dataset loaded successfully!\")\n",
    "print(df.head())  # Check the first few rows to confirm"
   ]
  },
  {
   "cell_type": "code",
   "execution_count": 14,
   "id": "49eaad4f-a67f-4cbd-b9f2-3bfe2e53a9ab",
   "metadata": {},
   "outputs": [
    {
     "name": "stdout",
     "output_type": "stream",
     "text": [
      "Text preprocessing completed!\n",
      "                                         Description  \\\n",
      "0  Away swing, low bounce, beats the outside edge...   \n",
      "1  Pulled behind square. Old-school Rohit, standi...   \n",
      "2  Touch too straight, clipped off the pads. Thro...   \n",
      "3         Length on fourth, extra bounce. Good leave   \n",
      "4  A bit of away movement, that was late swing. L...   \n",
      "\n",
      "                                 cleaned_description  \n",
      "0  away swing low bounce beat outside edge landed...  \n",
      "1  pulled behind square oldschool rohit standing ...  \n",
      "2              touch straight clipped pad square leg  \n",
      "3              length fourth extra bounce good leave  \n",
      "4  bit away movement late swing landed around fif...  \n"
     ]
    }
   ],
   "source": [
    "# Set up stopwords and lemmatizer\n",
    "stop_words = set(stopwords.words('english'))\n",
    "lemmatizer = WordNetLemmatizer()\n",
    "\n",
    "# Preprocessing function\n",
    "def preprocess_text(text):\n",
    "    text = text.lower()\n",
    "    text = text.translate(str.maketrans('', '', string.punctuation))\n",
    "    tokens = text.split()\n",
    "    tokens = [lemmatizer.lemmatize(word) for word in tokens if word not in stop_words]\n",
    "    return ' '.join(tokens)\n",
    "\n",
    "# Apply preprocessing to the Description column\n",
    "df['cleaned_description'] = df['Description'].apply(preprocess_text)\n",
    "print(\"Text preprocessing completed!\")\n",
    "print(df[['Description', 'cleaned_description']].head())"
   ]
  },
  {
   "cell_type": "code",
   "execution_count": 15,
   "id": "4b2c19c4-800d-47dc-8a52-000cc90fa77a",
   "metadata": {},
   "outputs": [
    {
     "name": "stdout",
     "output_type": "stream",
     "text": [
      "Labeled data prepared!\n",
      "                                         description       label  \\\n",
      "0  Away swing, low bounce, beats the outside edge...   Good ball   \n",
      "1  Pulled behind square. Old-school Rohit, standi...  Short ball   \n",
      "2  Touch too straight, clipped off the pads. Thro...   Full ball   \n",
      "3         Length on fourth, extra bounce. Good leave   Good ball   \n",
      "4  A bit of away movement, that was late swing. L...   Good ball   \n",
      "5  Wide and full, swing away but it's outside the...   Wide ball   \n",
      "6  Overpitched on fourth, 135ks, swing away. Driv...   Full ball   \n",
      "7  Three-quarter length on fifth, Gill happy to t...   Good ball   \n",
      "8    Fullish on fifth, 135ks, defended towards cover   Full ball   \n",
      "9  Flicked aerially but in the gap to the left of...   Full ball   \n",
      "\n",
      "                                 cleaned_description  \n",
      "0            away swing low bounce beat outside edge  \n",
      "1  pulled behind square oldschool rohit standing ...  \n",
      "2              touch straight clipped pad square leg  \n",
      "3              length fourth extra bounce good leave  \n",
      "4   bit away movement late swing landed around fifth  \n",
      "5              wide full swing away outside tramline  \n",
      "6  overpitched fourth 135ks swing away driven softly  \n",
      "7  threequarter length fifth gill happy take dece...  \n",
      "8         fullish fifth 135ks defended towards cover  \n",
      "9                flicked aerially gap left midwicket  \n"
     ]
    }
   ],
   "source": [
    "# Example labeled data (expand this with your own labels)\n",
    "labeled_data = [\n",
    "    {\"description\": \"Away swing, low bounce, beats the outside edge...\", \"label\": \"Good ball\"},\n",
    "    {\"description\": \"Pulled behind square. Old-school Rohit, standing upright, waiting for the shortish ball...\", \"label\": \"Short ball\"},\n",
    "    {\"description\": \"Touch too straight, clipped off the pads. Through square leg\", \"label\": \"Full ball\"},\n",
    "    {\"description\": \"Length on fourth, extra bounce. Good leave\", \"label\": \"Good ball\"},\n",
    "    {\"description\": \"A bit of away movement, that was late swing. Landed around fifth...\", \"label\": \"Good ball\"},\n",
    "    {\"description\": \"Wide and full, swing away but it's outside the tramline...\", \"label\": \"Wide ball\"},\n",
    "    {\"description\": \"Overpitched on fourth, 135ks, swing away. Driven softly...\", \"label\": \"Full ball\"},\n",
    "    {\"description\": \"Three-quarter length on fifth, Gill happy to take a decent front stride...\", \"label\": \"Good ball\"},\n",
    "    {\"description\": \"Fullish on fifth, 135ks, defended towards cover\", \"label\": \"Full ball\"},\n",
    "    {\"description\": \"Flicked aerially but in the gap to the left of midwicket...\", \"label\": \"Full ball\"},\n",
    "    # Add more if needed\n",
    "]\n",
    "\n",
    "# Convert to DataFrame\n",
    "labeled_df = pd.DataFrame(labeled_data)\n",
    "\n",
    "# Preprocess labeled descriptions\n",
    "labeled_df['cleaned_description'] = labeled_df['description'].apply(preprocess_text)\n",
    "\n",
    "# Placeholder: If you have more labeled data in a separate file, load it here\n",
    "# labeled_df = pd.read_csv('labeled_ball_types.csv')\n",
    "print(\"Labeled data prepared!\")\n",
    "print(labeled_df)"
   ]
  },
  {
   "cell_type": "code",
   "execution_count": 16,
   "id": "9db8894c-3185-43b9-9b3f-9d4d3d8c326a",
   "metadata": {},
   "outputs": [
    {
     "name": "stdout",
     "output_type": "stream",
     "text": [
      "Model Accuracy: 0.0\n",
      "              precision    recall  f1-score   support\n",
      "\n",
      "   Full ball       0.00      0.00      0.00       1.0\n",
      "   Good ball       0.00      0.00      0.00       0.0\n",
      "  Short ball       0.00      0.00      0.00       1.0\n",
      "\n",
      "    accuracy                           0.00       2.0\n",
      "   macro avg       0.00      0.00      0.00       2.0\n",
      "weighted avg       0.00      0.00      0.00       2.0\n",
      "\n"
     ]
    },
    {
     "name": "stderr",
     "output_type": "stream",
     "text": [
      "/home/nikhil-saxena/anaconda3/lib/python3.12/site-packages/sklearn/metrics/_classification.py:1531: UndefinedMetricWarning: Precision is ill-defined and being set to 0.0 in labels with no predicted samples. Use `zero_division` parameter to control this behavior.\n",
      "  _warn_prf(average, modifier, f\"{metric.capitalize()} is\", len(result))\n",
      "/home/nikhil-saxena/anaconda3/lib/python3.12/site-packages/sklearn/metrics/_classification.py:1531: UndefinedMetricWarning: Recall is ill-defined and being set to 0.0 in labels with no true samples. Use `zero_division` parameter to control this behavior.\n",
      "  _warn_prf(average, modifier, f\"{metric.capitalize()} is\", len(result))\n",
      "/home/nikhil-saxena/anaconda3/lib/python3.12/site-packages/sklearn/metrics/_classification.py:1531: UndefinedMetricWarning: Precision is ill-defined and being set to 0.0 in labels with no predicted samples. Use `zero_division` parameter to control this behavior.\n",
      "  _warn_prf(average, modifier, f\"{metric.capitalize()} is\", len(result))\n",
      "/home/nikhil-saxena/anaconda3/lib/python3.12/site-packages/sklearn/metrics/_classification.py:1531: UndefinedMetricWarning: Recall is ill-defined and being set to 0.0 in labels with no true samples. Use `zero_division` parameter to control this behavior.\n",
      "  _warn_prf(average, modifier, f\"{metric.capitalize()} is\", len(result))\n",
      "/home/nikhil-saxena/anaconda3/lib/python3.12/site-packages/sklearn/metrics/_classification.py:1531: UndefinedMetricWarning: Precision is ill-defined and being set to 0.0 in labels with no predicted samples. Use `zero_division` parameter to control this behavior.\n",
      "  _warn_prf(average, modifier, f\"{metric.capitalize()} is\", len(result))\n",
      "/home/nikhil-saxena/anaconda3/lib/python3.12/site-packages/sklearn/metrics/_classification.py:1531: UndefinedMetricWarning: Recall is ill-defined and being set to 0.0 in labels with no true samples. Use `zero_division` parameter to control this behavior.\n",
      "  _warn_prf(average, modifier, f\"{metric.capitalize()} is\", len(result))\n"
     ]
    }
   ],
   "source": [
    "# Initialize TF-IDF vectorizer\n",
    "vectorizer = TfidfVectorizer()\n",
    "\n",
    "# Fit and transform the labeled data\n",
    "X_labeled = vectorizer.fit_transform(labeled_df['cleaned_description'])\n",
    "y_labeled = labeled_df['label']\n",
    "\n",
    "# Split into training and testing sets (optional, if you have enough data)\n",
    "X_train, X_test, y_train, y_test = train_test_split(X_labeled, y_labeled, test_size=0.2, random_state=42)\n",
    "\n",
    "# Train Naive Bayes model\n",
    "model = MultinomialNB()\n",
    "model.fit(X_train, y_train)\n",
    "\n",
    "# Evaluate (skip if too little data for a meaningful split)\n",
    "if X_test.shape[0] > 0:\n",
    "    y_pred = model.predict(X_test)\n",
    "    print(\"Model Accuracy:\", accuracy_score(y_test, y_pred))\n",
    "    print(classification_report(y_test, y_pred))\n",
    "else:\n",
    "    print(\"Not enough data to evaluate; proceeding with full training set.\")\n",
    "    model.fit(X_labeled, y_labeled)"
   ]
  },
  {
   "cell_type": "code",
   "execution_count": 17,
   "id": "4799be6b-81f5-48c9-92d8-0a2599e1ae5a",
   "metadata": {},
   "outputs": [
    {
     "name": "stdout",
     "output_type": "stream",
     "text": [
      "Predictions completed!\n",
      "   Ball Number                                        Description  \\\n",
      "0          0.1  Away swing, low bounce, beats the outside edge...   \n",
      "1          0.2  Pulled behind square. Old-school Rohit, standi...   \n",
      "2          0.3  Touch too straight, clipped off the pads. Thro...   \n",
      "3          0.4         Length on fourth, extra bounce. Good leave   \n",
      "4          0.5  A bit of away movement, that was late swing. L...   \n",
      "\n",
      "  predicted_ball_type  \n",
      "0           Good ball  \n",
      "1           Good ball  \n",
      "2           Full ball  \n",
      "3           Good ball  \n",
      "4           Good ball  \n"
     ]
    }
   ],
   "source": [
    "# Transform the entire dataset's cleaned descriptions using the same vectorizer\n",
    "X_full = vectorizer.transform(df['cleaned_description'])\n",
    "\n",
    "# Predict ball types\n",
    "df['predicted_ball_type'] = model.predict(X_full)\n",
    "\n",
    "print(\"Predictions completed!\")\n",
    "print(df[['Ball Number', 'Description', 'predicted_ball_type']].head())"
   ]
  },
  {
   "cell_type": "code",
   "execution_count": 18,
   "id": "1a876118-f847-4b59-a4c7-0118d7b8ee75",
   "metadata": {},
   "outputs": [
    {
     "name": "stdout",
     "output_type": "stream",
     "text": [
      "Final dataset saved as 'final_dataset_with_ball_types.csv'\n"
     ]
    }
   ],
   "source": [
    "# Save to a new CSV\n",
    "df.to_csv('final_dataset_with_ball_types.csv', index=False)\n",
    "print(\"Final dataset saved as 'final_dataset_with_ball_types.csv'\")"
   ]
  },
  {
   "cell_type": "code",
   "execution_count": null,
   "id": "b61077d5-bd3f-4b5a-aaef-2e55baf06976",
   "metadata": {},
   "outputs": [],
   "source": []
  }
 ],
 "metadata": {
  "kernelspec": {
   "display_name": "Python 3 (ipykernel)",
   "language": "python",
   "name": "python3"
  },
  "language_info": {
   "codemirror_mode": {
    "name": "ipython",
    "version": 3
   },
   "file_extension": ".py",
   "mimetype": "text/x-python",
   "name": "python",
   "nbconvert_exporter": "python",
   "pygments_lexer": "ipython3",
   "version": "3.12.2"
  }
 },
 "nbformat": 4,
 "nbformat_minor": 5
}
