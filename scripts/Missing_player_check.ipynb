{
 "cells": [
  {
   "cell_type": "code",
   "execution_count": 5,
   "id": "d3ba558c-f512-445d-a220-bed09941910f",
   "metadata": {},
   "outputs": [
    {
     "name": "stdout",
     "output_type": "stream",
     "text": [
      "Unique Batsmen with empty batsman_role:\n",
      "{'Shahbaz Ahmed', 'Gulbadin Naib', nan, 'Wanindu Hasaranga', 'Jagadeesha Suchith', 'Domnic Muthuswami'}\n",
      "\n",
      "Unique Bowlers with empty bowler_role:\n",
      "{'Rovman Powell', 'David Warner', 'Suresh Raina', 'Parthiv Patel', 'Rohit Sharma', 'Aaron Finch', 'Nitish Rana', 'Virat Kohli', 'Nehal Wadhera', 'Domnic Muthuswami', 'Naman Dhir', 'Murali Vijay', 'Abdul Samad', 'Tristan Stubbs', 'Manish Pandey', 'Travis Head', 'Sherfane Rutherford', 'Colin Munro', 'Kane Williamson', 'Ayush Badoni', 'Matthew Short', 'Gulbadin Naib', 'Ramandeep Singh', \"D'Arcy Short\", nan, 'Wanindu Hasaranga', 'Manoj Tiwary', 'Sharma', 'Shubham Sanjay Agarwal', 'Gurkeerat Singh Mann', 'Yashasvi Jaiswal', 'Shivam Sharma', 'Siddarth Kaul', 'M Shahrukh Khan', 'Shahbaz Ahmed', 'agadeesha Suchith', 'Shreyas Iyer', 'Ripal Patel', 'Rahul Tripathi', 'Umran Malik', 'Yuvraj Singh', 'Steven Smith', 'Sachin Baby', 'Marlon Samuels', 'Riyan Parag', 'Sarfaraz Khan'}\n"
     ]
    }
   ],
   "source": [
    "import os\n",
    "import pandas as pd\n",
    "\n",
    "# Define the path to the dataset folder\n",
    "dataset_path = 'dataset'\n",
    "\n",
    "# Initialize sets to store unique names\n",
    "batsmen_with_empty_role = set()\n",
    "bowlers_with_empty_role = set()\n",
    "\n",
    "# Iterate over each year folder\n",
    "for year_folder in os.listdir(dataset_path):\n",
    "    year_path = os.path.join(dataset_path, year_folder)\n",
    "\n",
    "    # Check if it's a directory\n",
    "    if os.path.isdir(year_path):\n",
    "        # Iterate over each CSV file in the year folder\n",
    "        for csv_file in os.listdir(year_path):\n",
    "            if csv_file.endswith('.csv'):\n",
    "                file_path = os.path.join(year_path, csv_file)\n",
    "\n",
    "                # Read the CSV file into a DataFrame\n",
    "                df = pd.read_csv(file_path)\n",
    "\n",
    "                # Find batsmen with empty batsman_role\n",
    "                empty_batsman_role = df[df['batsman_role'].isnull()]['batsman']\n",
    "                batsmen_with_empty_role.update(empty_batsman_role)\n",
    "\n",
    "                # Find bowlers with empty bowler_role\n",
    "                empty_bowler_role = df[df['bowler_role'].isnull()]['bowler']\n",
    "                bowlers_with_empty_role.update(empty_bowler_role)\n",
    "\n",
    "# Print the results\n",
    "print(\"Unique Batsmen with empty batsman_role:\")\n",
    "print(batsmen_with_empty_role)\n",
    "\n",
    "print(\"\\nUnique Bowlers with empty bowler_role:\")\n",
    "print(bowlers_with_empty_role)\n"
   ]
  },
  {
   "cell_type": "code",
   "execution_count": null,
   "id": "8d7e4a01-0b17-4af8-9beb-d9742325f52d",
   "metadata": {},
   "outputs": [],
   "source": []
  }
 ],
 "metadata": {
  "kernelspec": {
   "display_name": "Python [conda env:base] *",
   "language": "python",
   "name": "conda-base-py"
  },
  "language_info": {
   "codemirror_mode": {
    "name": "ipython",
    "version": 3
   },
   "file_extension": ".py",
   "mimetype": "text/x-python",
   "name": "python",
   "nbconvert_exporter": "python",
   "pygments_lexer": "ipython3",
   "version": "3.12.7"
  }
 },
 "nbformat": 4,
 "nbformat_minor": 5
}
