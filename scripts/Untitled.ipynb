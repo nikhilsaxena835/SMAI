{
 "cells": [
  {
   "cell_type": "code",
   "execution_count": 25,
   "id": "8b3b8bf4-20eb-4a4b-b48f-1bdc375c2200",
   "metadata": {},
   "outputs": [
    {
     "name": "stdout",
     "output_type": "stream",
     "text": [
      "Stadium Name: Narendra Modi Stadium\n",
      "City: Ahmedabad\n",
      "Found tables: 4\n",
      "Unique Player Names: {'Shivam Dube', 'Shubman Gill', 'Ambati Rayudu', 'Ruturaj Gaikwad', 'Rashid Khan', 'Mohammed Shami', 'Sai Sudharsan', 'Ravindra Jadeja', 'Deepak Chahar', 'MS Dhoni', 'Wriddhiman Saha', 'Hardik Pandya', 'Noor Ahmad', 'Mohit Sharma', 'Maheesh Theekshana', 'Devon Conway', 'Ajinkya Rahane', 'Josh Little', 'Matheesha Pathirana', 'Tushar Deshpande'}\n",
      "Total number of unique players: 20\n"
     ]
    }
   ],
   "source": [
    "import time\n",
    "import re\n",
    "from bs4 import BeautifulSoup\n",
    "from selenium import webdriver\n",
    "from selenium.webdriver.chrome.service import Service\n",
    "from selenium.webdriver.common.by import By\n",
    "from selenium.webdriver.support.ui import WebDriverWait\n",
    "from selenium.webdriver.support import expected_conditions as EC\n",
    "\n",
    "# Step 1: Set up Selenium WebDriver\n",
    "driver = webdriver.Chrome()\n",
    "\n",
    "# Step 2: Define the URL\n",
    "url = \"https://www.espncricinfo.com/series/indian-premier-league-2023-1345038/gujarat-titans-vs-chennai-super-kings-final-1370353/full-scorecard\"\n",
    "driver.get(url)\n",
    "\n",
    "# Step 3: Wait for the page to load fully\n",
    "WebDriverWait(driver, 10).until(\n",
    "    EC.presence_of_element_located((By.TAG_NAME, \"body\"))\n",
    ")\n",
    "\n",
    "# Step 4: Scroll to the bottom of the page to ensure content is loaded\n",
    "driver.execute_script(\"window.scrollTo(0, document.body.scrollHeight);\")\n",
    "time.sleep(2)  # Allow time for dynamic content to load\n",
    "\n",
    "# Step 5: Get the updated page source after scrolling\n",
    "html_content = driver.page_source\n",
    "\n",
    "# Step 6: Create BeautifulSoup object\n",
    "soup = BeautifulSoup(html_content, 'html.parser')\n",
    "\n",
    "# Step 7: Extract stadium name and city\n",
    "stadium_info = soup.find(\"a\", href=re.compile(\"/cricket-grounds/\"))\n",
    "if stadium_info:\n",
    "    stadium_name, city = stadium_info[\"title\"].split(\", \")\n",
    "    print(f\"Stadium Name: {stadium_name}\\nCity: {city}\")\n",
    "else:\n",
    "    print(\"Stadium information not found.\")\n",
    "\n",
    "# Step 8: Find all tables\n",
    "tables = soup.find_all('table')\n",
    "if len(tables) > 4:\n",
    "    tables = tables[:4]  # Only process the first four tables\n",
    "\n",
    "# Step 9: Create a set for player names\n",
    "player_names = set()\n",
    "\n",
    "# Regex pattern to remove (c), †, and any text inside parentheses\n",
    "pattern = r\"\\s*\\([^)]*\\)|†\"\n",
    "\n",
    "# Step 10: Extract names from tables\n",
    "for table in tables:\n",
    "    tbody = table.find('tbody')\n",
    "    if tbody:\n",
    "        rows = tbody.find_all('tr')\n",
    "        for row in rows:\n",
    "            player_cell = row.find('td')\n",
    "            if player_cell:\n",
    "                name_span = player_cell.find('span', class_='ds-text-tight-s')\n",
    "                if name_span:\n",
    "                    clean_name = re.sub(pattern, \"\", name_span.text).strip()\n",
    "                    if clean_name:\n",
    "                        player_names.add(clean_name)\n",
    "\n",
    "# Step 11: Print results\n",
    "print(\"Found tables:\", len(tables))\n",
    "print(\"Unique Player Names:\", player_names)\n",
    "print(f\"Total number of unique players: {len(player_names)}\")\n",
    "\n",
    "# Step 12: Close the browser\n",
    "driver.quit()"
   ]
  },
  {
   "cell_type": "code",
   "execution_count": null,
   "id": "721dff34-9d52-438c-a6e7-8712ff3cfd99",
   "metadata": {},
   "outputs": [],
   "source": []
  }
 ],
 "metadata": {
  "kernelspec": {
   "display_name": "Python 3 (ipykernel)",
   "language": "python",
   "name": "python3"
  },
  "language_info": {
   "codemirror_mode": {
    "name": "ipython",
    "version": 3
   },
   "file_extension": ".py",
   "mimetype": "text/x-python",
   "name": "python",
   "nbconvert_exporter": "python",
   "pygments_lexer": "ipython3",
   "version": "3.12.2"
  }
 },
 "nbformat": 4,
 "nbformat_minor": 5
}
